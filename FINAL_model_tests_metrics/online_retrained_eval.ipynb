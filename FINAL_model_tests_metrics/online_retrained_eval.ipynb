{
 "cells": [
  {
   "cell_type": "code",
   "execution_count": 1,
   "metadata": {},
   "outputs": [],
   "source": [
    "import sys\n",
    "import os\n",
    "import matplotlib.pyplot as plt\n",
    "import seaborn as sns\n",
    "\n",
    "\n",
    "# Hugging Face Transformers and PyTorch\n",
    "import torch\n",
    "from transformers import AutoModelForSequenceClassification, AutoTokenizer, RobertaForSequenceClassification, RobertaTokenizer\n",
    "from torch.utils.data import TensorDataset, DataLoader\n",
    "\n",
    "\n",
    "# Sklearn for Model Evaluation\n",
    "from sklearn.metrics import accuracy_score, classification_report, confusion_matrix, roc_auc_score\n",
    "import numpy as np\n"
   ]
  },
  {
   "cell_type": "code",
   "execution_count": 2,
   "metadata": {},
   "outputs": [],
   "source": [
    "utils_path = r'C:\\Users\\aless\\Desktop\\final project 2.1\\Final-Project---Luis-Augustin-Ale\\utils'\n",
    "sys.path.append(os.path.abspath(utils_path))"
   ]
  },
  {
   "cell_type": "code",
   "execution_count": 3,
   "metadata": {},
   "outputs": [],
   "source": [
    "from custom_class_final_model import CustomRobertaModel\n"
   ]
  },
  {
   "cell_type": "code",
   "execution_count": 4,
   "metadata": {},
   "outputs": [
    {
     "name": "stderr",
     "output_type": "stream",
     "text": [
      "Some weights of RobertaForSequenceClassification were not initialized from the model checkpoint at roberta-base and are newly initialized: ['classifier.dense.bias', 'classifier.dense.weight', 'classifier.out_proj.bias', 'classifier.out_proj.weight']\n",
      "You should probably TRAIN this model on a down-stream task to be able to use it for predictions and inference.\n"
     ]
    }
   ],
   "source": [
    "# Load the pre-trained model and tokenizer from Hugging Face\n",
    "model_name = \"AleOfDurin/final_retrained_model\"\n",
    "# Load the model and tokenizer from the Hugging Face Hub\n",
    "model_custom = CustomRobertaModel.from_pretrained(model_name)\n",
    "tokenizer = RobertaTokenizer.from_pretrained(model_name)"
   ]
  },
  {
   "cell_type": "code",
   "execution_count": 5,
   "metadata": {},
   "outputs": [
    {
     "data": {
      "text/plain": [
       "CustomRobertaModel(\n",
       "  (roberta): RobertaForSequenceClassification(\n",
       "    (roberta): RobertaModel(\n",
       "      (embeddings): RobertaEmbeddings(\n",
       "        (word_embeddings): Embedding(50265, 768, padding_idx=1)\n",
       "        (position_embeddings): Embedding(514, 768, padding_idx=1)\n",
       "        (token_type_embeddings): Embedding(1, 768)\n",
       "        (LayerNorm): LayerNorm((768,), eps=1e-05, elementwise_affine=True)\n",
       "        (dropout): Dropout(p=0.1, inplace=False)\n",
       "      )\n",
       "      (encoder): RobertaEncoder(\n",
       "        (layer): ModuleList(\n",
       "          (0-11): 12 x RobertaLayer(\n",
       "            (attention): RobertaAttention(\n",
       "              (self): RobertaSdpaSelfAttention(\n",
       "                (query): Linear(in_features=768, out_features=768, bias=True)\n",
       "                (key): Linear(in_features=768, out_features=768, bias=True)\n",
       "                (value): Linear(in_features=768, out_features=768, bias=True)\n",
       "                (dropout): Dropout(p=0.1, inplace=False)\n",
       "              )\n",
       "              (output): RobertaSelfOutput(\n",
       "                (dense): Linear(in_features=768, out_features=768, bias=True)\n",
       "                (LayerNorm): LayerNorm((768,), eps=1e-05, elementwise_affine=True)\n",
       "                (dropout): Dropout(p=0.1, inplace=False)\n",
       "              )\n",
       "            )\n",
       "            (intermediate): RobertaIntermediate(\n",
       "              (dense): Linear(in_features=768, out_features=3072, bias=True)\n",
       "              (intermediate_act_fn): GELUActivation()\n",
       "            )\n",
       "            (output): RobertaOutput(\n",
       "              (dense): Linear(in_features=3072, out_features=768, bias=True)\n",
       "              (LayerNorm): LayerNorm((768,), eps=1e-05, elementwise_affine=True)\n",
       "              (dropout): Dropout(p=0.1, inplace=False)\n",
       "            )\n",
       "          )\n",
       "        )\n",
       "      )\n",
       "    )\n",
       "    (classifier): RobertaClassificationHead(\n",
       "      (dense): Linear(in_features=768, out_features=768, bias=True)\n",
       "      (dropout): Dropout(p=0.1, inplace=False)\n",
       "      (out_proj): Linear(in_features=768, out_features=2, bias=True)\n",
       "    )\n",
       "  )\n",
       "  (additional_layer_1): Linear(in_features=768, out_features=512, bias=True)\n",
       "  (additional_layer_2): Linear(in_features=512, out_features=256, bias=True)\n",
       "  (classifier): Linear(in_features=256, out_features=2, bias=True)\n",
       "  (relu): ReLU()\n",
       ")"
      ]
     },
     "execution_count": 5,
     "metadata": {},
     "output_type": "execute_result"
    }
   ],
   "source": [
    "# Move the model to the GPU (if available)\n",
    "device = torch.device('cuda' if torch.cuda.is_available() else 'cpu')\n",
    "model_custom.to(device)\n",
    "model_custom.eval()  # Set the model to evaluation mode"
   ]
  },
  {
   "cell_type": "code",
   "execution_count": 6,
   "metadata": {},
   "outputs": [
    {
     "name": "stderr",
     "output_type": "stream",
     "text": [
      "C:\\Users\\aless\\AppData\\Local\\Temp\\ipykernel_32384\\2492013525.py:2: FutureWarning: You are using `torch.load` with `weights_only=False` (the current default value), which uses the default pickle module implicitly. It is possible to construct malicious pickle data which will execute arbitrary code during unpickling (See https://github.com/pytorch/pytorch/blob/main/SECURITY.md#untrusted-models for more details). In a future release, the default value for `weights_only` will be flipped to `True`. This limits the functions that could be executed during unpickling. Arbitrary objects will no longer be allowed to be loaded via this mode unless they are explicitly allowlisted by the user via `torch.serialization.add_safe_globals`. We recommend you start setting `weights_only=True` for any use case where you don't have full control of the loaded file. Please open an issue on GitHub for any issues related to this experimental feature.\n",
      "  val_encodings, val_labels = torch.load(r'C:\\Users\\aless\\Desktop\\final project 2.1\\val_encodings.pt')\n"
     ]
    }
   ],
   "source": [
    "# Load your validation data (tokenized input_ids and attention_masks)\n",
    "val_encodings, val_labels = torch.load(r'C:\\Users\\aless\\Desktop\\final project 2.1\\val_encodings.pt')\n"
   ]
  },
  {
   "cell_type": "code",
   "execution_count": 7,
   "metadata": {},
   "outputs": [
    {
     "name": "stdout",
     "output_type": "stream",
     "text": [
      "Tokenized Input IDs: tensor([[    0, 12861,  7728,  2788,   259,     2],\n",
      "        [    0, 21518,  7728,  2788,     2,     1]], device='cuda:0')\n",
      "Tokenized Attention Mask: tensor([[1, 1, 1, 1, 1, 1],\n",
      "        [1, 1, 1, 1, 1, 0]], device='cuda:0')\n"
     ]
    }
   ],
   "source": [
    "# test tokens\n",
    "texts = [\"Your sample text here\", \"Another sample text\"]  # Replace with your dataset's text\n",
    "\n",
    "# Tokenize the texts\n",
    "tokenized_inputs = tokenizer(texts, padding=True, truncation=True, max_length=128, return_tensors=\"pt\")\n",
    "\n",
    "# Move tokenized inputs to the device\n",
    "input_ids = tokenized_inputs['input_ids'].to(device)\n",
    "attention_mask = tokenized_inputs['attention_mask'].to(device)\n",
    "\n",
    "# Debug: Print tokenized inputs\n",
    "print(f\"Tokenized Input IDs: {input_ids}\")\n",
    "print(f\"Tokenized Attention Mask: {attention_mask}\")\n"
   ]
  },
  {
   "cell_type": "code",
   "execution_count": 8,
   "metadata": {},
   "outputs": [],
   "source": [
    "# Prepare DataLoader for validation\n",
    "val_dataset = TensorDataset(val_encodings['input_ids'], val_encodings['attention_mask'], val_labels)\n",
    "val_loader = DataLoader(val_dataset, batch_size=512, num_workers=8)\n"
   ]
  },
  {
   "cell_type": "code",
   "execution_count": 9,
   "metadata": {},
   "outputs": [
    {
     "name": "stderr",
     "output_type": "stream",
     "text": [
      "C:\\Users\\aless\\AppData\\Local\\Temp\\ipykernel_32384\\1558904231.py:2: FutureWarning: You are using `torch.load` with `weights_only=False` (the current default value), which uses the default pickle module implicitly. It is possible to construct malicious pickle data which will execute arbitrary code during unpickling (See https://github.com/pytorch/pytorch/blob/main/SECURITY.md#untrusted-models for more details). In a future release, the default value for `weights_only` will be flipped to `True`. This limits the functions that could be executed during unpickling. Arbitrary objects will no longer be allowed to be loaded via this mode unless they are explicitly allowlisted by the user via `torch.serialization.add_safe_globals`. We recommend you start setting `weights_only=True` for any use case where you don't have full control of the loaded file. Please open an issue on GitHub for any issues related to this experimental feature.\n",
      "  val_encodings, val_labels = torch.load(r'C:\\Users\\aless\\Desktop\\final project 2.1\\val_encodings.pt')\n",
      "c:\\Users\\aless\\AppData\\Local\\Programs\\Python\\Python311\\Lib\\site-packages\\transformers\\models\\roberta\\modeling_roberta.py:370: UserWarning: 1Torch was not compiled with flash attention. (Triggered internally at C:\\actions-runner\\_work\\pytorch\\pytorch\\builder\\windows\\pytorch\\aten\\src\\ATen\\native\\transformers\\cuda\\sdp_utils.cpp:555.)\n",
      "  attn_output = torch.nn.functional.scaled_dot_product_attention(\n"
     ]
    }
   ],
   "source": [
    "# Load your validation data (tokenized input_ids and attention_masks)\n",
    "val_encodings, val_labels = torch.load(r'C:\\Users\\aless\\Desktop\\final project 2.1\\val_encodings.pt')\n",
    "\n",
    "# Prepare DataLoader for validation\n",
    "val_dataset = TensorDataset(val_encodings['input_ids'], val_encodings['attention_mask'], val_labels)\n",
    "val_loader = DataLoader(val_dataset, batch_size=512, num_workers=8)\n",
    "\n",
    "# Initialize lists to store predictions and true labels\n",
    "all_preds = []\n",
    "all_labels = []\n",
    "y_proba = []  # Store probabilities for ROC-AUC\n",
    "\n",
    "# Set model to no_grad mode for inference\n",
    "with torch.no_grad():\n",
    "    for batch in val_loader:\n",
    "        # Move batch to device (GPU/CPU)\n",
    "        input_ids, attention_mask, labels = [x.to(device) for x in batch]\n",
    "        \n",
    "        # Run inference\n",
    "        logits = model_custom(input_ids=input_ids, attention_mask=attention_mask)\n",
    "        \n",
    "        # Get predicted classes\n",
    "        predictions = torch.argmax(logits, dim=-1)\n",
    "        probabilities = torch.softmax(logits, dim=-1)[:, 1]  # For ROC-AUC (probabilities for class 1)\n",
    "\n",
    "        # Store predictions, true labels, and probabilities\n",
    "        all_preds.extend(predictions.cpu().numpy())\n",
    "        all_labels.extend(labels.cpu().numpy())\n",
    "        y_proba.extend(probabilities.cpu().numpy())"
   ]
  },
  {
   "cell_type": "code",
   "execution_count": 13,
   "metadata": {},
   "outputs": [
    {
     "name": "stdout",
     "output_type": "stream",
     "text": [
      "Predictions (all_preds): [1, 0, 0, 1, 0]\n",
      "Labels (all_labels): [0, 0, 0, 0, 0]\n"
     ]
    }
   ],
   "source": [
    "# Check the shape and some example values\n",
    "print(f\"Predictions (all_preds): {all_preds[:5]}\")  # Print first 5 predictions\n",
    "print(f\"Labels (all_labels): {all_labels[:5]}\")  # Print first 5 labels\n"
   ]
  },
  {
   "cell_type": "code",
   "execution_count": 14,
   "metadata": {},
   "outputs": [
    {
     "name": "stdout",
     "output_type": "stream",
     "text": [
      "Predictions sample: [1, 0, 0, 1, 0, 1, 1, 1, 0, 0]\n",
      "True labels sample: [0, 0, 0, 0, 0, 1, 1, 1, 0, 0]\n",
      "Predicted Class Distribution: {0: 240790, 1: 228933}\n"
     ]
    }
   ],
   "source": [
    "# Print a few predictions and their corresponding labels\n",
    "print(\"Predictions sample:\", all_preds[:10])\n",
    "print(\"True labels sample:\", all_labels[:10])\n",
    "\n",
    "# Check distribution of predictions (if the model is predicting only one class)\n",
    "unique_preds, counts_preds = np.unique(all_preds, return_counts=True)\n",
    "pred_class_distribution = dict(zip(unique_preds, counts_preds))\n",
    "print(f\"Predicted Class Distribution: {pred_class_distribution}\")\n"
   ]
  },
  {
   "cell_type": "code",
   "execution_count": 15,
   "metadata": {},
   "outputs": [],
   "source": [
    "# Convert lists to numpy arrays\n",
    "all_preds = np.array(all_preds)\n",
    "all_labels = np.array(all_labels)\n",
    "y_proba = np.array(y_proba)\n"
   ]
  },
  {
   "cell_type": "code",
   "execution_count": 16,
   "metadata": {},
   "outputs": [],
   "source": [
    "# Calculate metrics\n",
    "accuracy = accuracy_score(all_labels, all_preds)\n",
    "report = classification_report(all_labels, all_preds)\n",
    "conf_matrix = confusion_matrix(all_labels, all_preds)\n",
    "roc_auc = roc_auc_score(all_labels, y_proba)\n"
   ]
  },
  {
   "cell_type": "code",
   "execution_count": 17,
   "metadata": {},
   "outputs": [
    {
     "name": "stdout",
     "output_type": "stream",
     "text": [
      "Accuracy: 0.8732\n",
      "Classification Report:\n",
      "               precision    recall  f1-score   support\n",
      "\n",
      "           0       0.86      0.89      0.87    235207\n",
      "           1       0.88      0.86      0.87    234516\n",
      "\n",
      "    accuracy                           0.87    469723\n",
      "   macro avg       0.87      0.87      0.87    469723\n",
      "weighted avg       0.87      0.87      0.87    469723\n",
      "\n",
      "Confusion Matrix:\n",
      " [[208229  26978]\n",
      " [ 32561 201955]]\n",
      "ROC-AUC Score: 0.9470\n"
     ]
    }
   ],
   "source": [
    "# Print metrics\n",
    "print(f\"Accuracy: {accuracy:.4f}\")\n",
    "print(\"Classification Report:\\n\", report)\n",
    "print(\"Confusion Matrix:\\n\", conf_matrix)\n",
    "print(f\"ROC-AUC Score: {roc_auc:.4f}\")"
   ]
  },
  {
   "cell_type": "code",
   "execution_count": 22,
   "metadata": {},
   "outputs": [
    {
     "data": {
      "image/png": "[encoded data removed]",
      "text/plain": [
       "<Figure size 600x600 with 1 Axes>"
      ]
     },
     "metadata": {},
     "output_type": "display_data"
    }
   ],
   "source": [
    "# Confusion Matrix\n",
    "cm = confusion_matrix(all_labels, all_preds)\n",
    "\n",
    "# Plotting the confusion matrix\n",
    "plt.figure(figsize=(6, 6))\n",
    "sns.heatmap(cm, annot=True, fmt=\"d\", cmap=\"Blues\", cbar=False)\n",
    "plt.title(\"Confusion Matrix\")\n",
    "plt.ylabel(\"Actual\")\n",
    "plt.xlabel(\"Predicted\")\n",
    "plt.show()"
   ]
  },
  {
   "cell_type": "markdown",
   "metadata": {},
   "source": [
    "## Metrics results"
   ]
  },
  {
   "cell_type": "markdown",
   "metadata": {},
   "source": [
    "Accuracy: 0.8732  -  percentage of correctly classified instances out of the total, hence the model correctly classified about 87.32% of all sentences as either positive or negative\n",
    "\n",
    "\n",
    "\n",
    "Classification Report  \n",
    "\n",
    "Precision:   percentage of correctly predicted positive instances, for negative sentences (class 0): Precision = 0.86, for positive sentences (class 1): Precision = 0.88\n",
    "\n",
    "Recall:  correctly identified sentences of a certain class out of all actual instances of that class.  For negative sentences (class 0): Recall = 0.89. For positive sentences (class 1): Recall = 0.86.\n",
    "\n",
    "F1-Score:  harmonic mean of precision and recall  For negative sentences (class 0): F1 = 0.87 . For positive sentences (class 1): F1 = 0.87\n",
    "\n",
    "\n",
    "\n",
    "Confusion matrix \n",
    "\n",
    "True Negatives (TN): 208,229 (correctly predicted negative sentences)\n",
    "\n",
    "False Positives (FP): 26,978 (positive predictions that were actually negative)\n",
    "\n",
    "False Negatives (FN): 32,561 (negative predictions that were actually positive)\n",
    "\n",
    "True Positives (TP): 201,955 (correctly predicted positive sentences)\n",
    "\n",
    "\n",
    "\n",
    "ROC-AUC Score: 0.9470    indicates how well the model can distinguish between positive and negative classes."
   ]
  },
  {
   "cell_type": "markdown",
   "metadata": {},
   "source": []
  }
 ],
 "metadata": {
  "kernelspec": {
   "display_name": "Python 3",
   "language": "python",
   "name": "python3"
  },
  "language_info": {
   "codemirror_mode": {
    "name": "ipython",
    "version": 3
   },
   "file_extension": ".py",
   "mimetype": "text/x-python",
   "name": "python",
   "nbconvert_exporter": "python",
   "pygments_lexer": "ipython3",
   "version": "3.11.6"
  }
 },
 "nbformat": 4,
 "nbformat_minor": 2
}
