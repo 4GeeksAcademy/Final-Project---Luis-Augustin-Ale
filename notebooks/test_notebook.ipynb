{
 "cells": [
  {
   "cell_type": "code",
   "execution_count": 3,
   "metadata": {},
   "outputs": [],
   "source": [
    "import pandas as pd"
   ]
  },
  {
   "cell_type": "code",
   "execution_count": null,
   "metadata": {},
   "outputs": [],
   "source": [
    "df = pd.read_csv(\"hf://datasets/PrkhrAwsti/Twitter_Sentiment_3M/twitter_dataset.csv\")"
   ]
  },
  {
   "cell_type": "code",
   "execution_count": 4,
   "metadata": {},
   "outputs": [
    {
     "data": {
      "text/html": [
       "<div>\n",
       "<style scoped>\n",
       "    .dataframe tbody tr th:only-of-type {\n",
       "        vertical-align: middle;\n",
       "    }\n",
       "\n",
       "    .dataframe tbody tr th {\n",
       "        vertical-align: top;\n",
       "    }\n",
       "\n",
       "    .dataframe thead th {\n",
       "        text-align: right;\n",
       "    }\n",
       "</style>\n",
       "<table border=\"1\" class=\"dataframe\">\n",
       "  <thead>\n",
       "    <tr style=\"text-align: right;\">\n",
       "      <th></th>\n",
       "      <th>Unnamed: 0</th>\n",
       "      <th>tweet</th>\n",
       "      <th>sentiment</th>\n",
       "    </tr>\n",
       "  </thead>\n",
       "  <tbody>\n",
       "    <tr>\n",
       "      <th>0</th>\n",
       "      <td>0</td>\n",
       "      <td>is upset that he can't update his Facebook by ...</td>\n",
       "      <td>0.0</td>\n",
       "    </tr>\n",
       "    <tr>\n",
       "      <th>1</th>\n",
       "      <td>1</td>\n",
       "      <td>@Kenichan I dived many times for the ball. Man...</td>\n",
       "      <td>0.0</td>\n",
       "    </tr>\n",
       "    <tr>\n",
       "      <th>2</th>\n",
       "      <td>2</td>\n",
       "      <td>my whole body feels itchy and like its on fire</td>\n",
       "      <td>0.0</td>\n",
       "    </tr>\n",
       "    <tr>\n",
       "      <th>3</th>\n",
       "      <td>3</td>\n",
       "      <td>@nationwideclass no, it's not behaving at all....</td>\n",
       "      <td>0.0</td>\n",
       "    </tr>\n",
       "    <tr>\n",
       "      <th>4</th>\n",
       "      <td>4</td>\n",
       "      <td>@Kwesidei not the whole crew</td>\n",
       "      <td>0.0</td>\n",
       "    </tr>\n",
       "  </tbody>\n",
       "</table>\n",
       "</div>"
      ],
      "text/plain": [
       "   Unnamed: 0                                              tweet  sentiment\n",
       "0           0  is upset that he can't update his Facebook by ...        0.0\n",
       "1           1  @Kenichan I dived many times for the ball. Man...        0.0\n",
       "2           2    my whole body feels itchy and like its on fire         0.0\n",
       "3           3  @nationwideclass no, it's not behaving at all....        0.0\n",
       "4           4                      @Kwesidei not the whole crew         0.0"
      ]
     },
     "execution_count": 4,
     "metadata": {},
     "output_type": "execute_result"
    }
   ],
   "source": [
    "df.head()"
   ]
  },
  {
   "cell_type": "code",
   "execution_count": 20,
   "metadata": {},
   "outputs": [],
   "source": [
    "dfsample = df.sample(n=100,random_state=100)"
   ]
  },
  {
   "cell_type": "code",
   "execution_count": 21,
   "metadata": {},
   "outputs": [],
   "source": [
    "dfsample.to_csv('sample_para_dashboard_prueba.csv')"
   ]
  },
  {
   "cell_type": "code",
   "execution_count": 1,
   "metadata": {},
   "outputs": [],
   "source": [
    "import pandas as pd\n",
    "import re\n",
    "from transformers import RobertaTokenizer\n",
    "import toml\n",
    "\n",
    "# Load the dataset\n",
    "secrets = toml.load(r'C:\\Users\\aless\\Desktop\\final project\\Final-Project---Luis-Augustin-Ale\\.streamlit\\secrets.toml')\n",
    "df = pd.read_csv(\"hf://datasets/PrkhrAwsti/Twitter_Sentiment_3M/twitter_dataset.csv\")\n",
    "\n",
    "# Clean the tweets\n",
    "def clean_tweet(text):\n",
    "    text = text.lower()  # Lowercase text\n",
    "    text = re.sub(r'http\\S+|www\\S+|https\\S+', '', text)  # Remove URLs\n",
    "    text = re.sub(r'@\\w+', '', text)  # Remove mentions\n",
    "    text = re.sub(r'[^a-z0-9# ]', ' ', text)  # Remove special characters\n",
    "    text = re.sub(r'\\s+', ' ', text).strip()  # Remove extra spaces\n",
    "    return text\n",
    "\n",
    "# Apply cleaning function to tweets\n",
    "df['cleaned_tweet'] = df['tweet'].apply(clean_tweet)\n",
    "\n",
    "# Remove neutral sentiment (class 2) to focus on binary classification (positive/negative)\n",
    "df = df[df['sentiment'] != 2]\n",
    "\n",
    "# Drop missing and duplicate values\n",
    "df = df.dropna()\n",
    "df = df.drop_duplicates()\n",
    "\n",
    "# Convert sentiment column to integer\n",
    "df['sentiment'] = df['sentiment'].astype(int)\n"
   ]
  },
  {
   "cell_type": "code",
   "execution_count": 2,
   "metadata": {},
   "outputs": [
    {
     "data": {
      "image/png": "[encoded data removed]",
      "text/plain": [
       "<Figure size 640x480 with 1 Axes>"
      ]
     },
     "metadata": {},
     "output_type": "display_data"
    }
   ],
   "source": [
    "import seaborn as sns\n",
    "import matplotlib.pyplot as plt\n",
    "\n",
    "# Plot class distribution\n",
    "sns.countplot(x='sentiment', data=df)\n",
    "plt.title('Class Distribution (Positive vs Negative)')\n",
    "plt.show()\n"
   ]
  },
  {
   "cell_type": "code",
   "execution_count": 4,
   "metadata": {},
   "outputs": [],
   "source": [
    "from sklearn.utils import resample\n",
    "\n",
    "# Separate positive and negative classes\n",
    "positive = df[df['sentiment'] == 1]\n",
    "negative = df[df['sentiment'] == 0]\n",
    "\n",
    "# Oversample the minority class\n",
    "if len(positive) > len(negative):\n",
    "    negative = resample(negative, replace=True, n_samples=len(positive), random_state=42)\n",
    "else:\n",
    "    positive = resample(positive, replace=True, n_samples=len(negative), random_state=42)\n",
    "\n",
    "# Combine the oversampled data\n",
    "df = pd.concat([positive, negative])\n",
    "\n",
    "# Shuffle the dataset\n",
    "df = df.sample(frac=1, random_state=42).reset_index(drop=True)\n"
   ]
  },
  {
   "cell_type": "code",
   "execution_count": 8,
   "metadata": {},
   "outputs": [
    {
     "name": "stdout",
     "output_type": "stream",
     "text": [
      "Training set size: 2198093\n",
      "Validation set size: 471020\n",
      "Test set size: 471021\n"
     ]
    }
   ],
   "source": [
    "from sklearn.model_selection import train_test_split\n",
    "from transformers import RobertaTokenizer\n",
    "import torch\n",
    "\n",
    "\n",
    "\n",
    "\n",
    "# Load RoBERTa tokenizer\n",
    "tokenizer = RobertaTokenizer.from_pretrained('roberta-base')\n",
    "\n",
    "# Split dataset into 70% training, 15% validation, 15% test\n",
    "X_train, X_temp, y_train, y_temp = train_test_split(df['cleaned_tweet'], df['sentiment'], test_size=0.3, random_state=42)\n",
    "X_val, X_test, y_val, y_test = train_test_split(X_temp, y_temp, test_size=0.5, random_state=42)\n",
    "\n",
    "# Tokenize the tweets for training, validation, and testing\n",
    "def tokenize_tweet(tweet):\n",
    "    tokenized_output = tokenizer(tweet, padding='max_length', truncation=True, max_length=128, return_tensors=\"pt\")\n",
    "\n",
    "\n",
    "# Tokenize the datasets\n",
    "X_train_tokenized = [tokenize_tweet(tweet) for tweet in X_train]\n",
    "X_val_tokenized = [tokenize_tweet(tweet) for tweet in X_val]\n",
    "X_test_tokenized = [tokenize_tweet(tweet) for tweet in X_test]\n",
    "\n",
    "# Print dataset sizes\n",
    "print(f\"Training set size: {len(X_train_tokenized)}\")\n",
    "print(f\"Validation set size: {len(X_val_tokenized)}\")\n",
    "print(f\"Test set size: {len(X_test_tokenized)}\")\n"
   ]
  },
  {
   "cell_type": "code",
   "execution_count": null,
   "metadata": {},
   "outputs": [],
   "source": [
    "import torch\n",
    "from transformers import RobertaForSequenceClassification, AdamW\n",
    "from torch.utils.data import DataLoader\n",
    "import time\n",
    "\n",
    "# Load the pre-trained RoBERTa model for binary classification\n",
    "model = RobertaForSequenceClassification.from_pretrained('roberta-base', num_labels=2)\n",
    "\n",
    "# Move model to GPU (CUDA) if available\n",
    "device = torch.device('cuda' if torch.cuda.is_available() else 'cpu')\n",
    "model.to(device)\n",
    "\n",
    "# Optimizer\n",
    "optimizer = AdamW(model.parameters(), lr=2e-5)\n",
    "\n",
    "# Assume train_dataset is already prepared with tokenized input_ids, attention_mask, and labels\n",
    "batch_size = 16  # Define batch size for better processing\n",
    "train_loader = DataLoader(train_dataset, batch_size=batch_size, shuffle=True)\n",
    "\n",
    "# Training Loop\n",
    "epochs = 3  # Number of epochs\n",
    "model.train()  # Set the model in training mode\n",
    "\n",
    "for epoch in range(epochs):\n",
    "    start_time = time.time()  # Track epoch start time\n",
    "    running_loss = 0.0  # To accumulate loss\n",
    "\n",
    "    for i, batch in enumerate(train_loader):\n",
    "        # Move batch data to GPU\n",
    "        input_ids = batch['input_ids'].to(device)\n",
    "        attention_mask = batch['attention_mask'].to(device)\n",
    "        labels = batch['labels'].to(device)\n",
    "\n",
    "        # Zero the gradients\n",
    "        optimizer.zero_grad()\n",
    "\n",
    "        # Forward pass\n",
    "        outputs = model(input_ids, attention_mask=attention_mask, labels=labels)\n",
    "        loss = outputs.loss\n",
    "\n",
    "        # Backward pass and optimization\n",
    "        loss.backward()\n",
    "        optimizer.step()\n",
    "\n",
    "        # Accumulate loss\n",
    "        running_loss += loss.item()\n",
    "\n",
    "        # Print progress every 100 batches\n",
    "        if (i + 1) % 100 == 0:\n",
    "            elapsed_time = time.time() - start_time\n",
    "            print(f\"Epoch {epoch + 1}/{epochs}, Step {i + 1}/{len(train_loader)}, Loss: {loss.item():.4f}, Elapsed Time: {elapsed_time:.2f} seconds\")\n",
    "\n",
    "    # Calculate average loss for the epoch\n",
    "    avg_loss = running_loss / len(train_loader)\n",
    "    epoch_time = time.time() - start_time\n",
    "    print(f\"Epoch {epoch + 1} completed. Avg Loss: {avg_loss:.4f}, Time Taken: {epoch_time / 60:.2f} minutes\")\n",
    "\n",
    "# Save the trained model after all epochs are complete\n",
    "model.save_pretrained('./roberta_sentiment_model')\n",
    "print(\"Model saved to './roberta_sentiment_model'.\")\n"
   ]
  },
  {
   "cell_type": "code",
   "execution_count": null,
   "metadata": {},
   "outputs": [],
   "source": [
    "from sklearn.metrics import accuracy_score\n",
    "\n",
    "# Switch to evaluation mode\n",
    "model.eval()\n",
    "\n",
    "# Assume test_dataset is already prepared with tokenized input_ids, attention_mask, and labels\n",
    "test_loader = DataLoader(test_dataset, batch_size=batch_size)\n",
    "\n",
    "predictions = []\n",
    "true_labels = []\n",
    "\n",
    "with torch.no_grad():  # Disable gradient calculation for testing\n",
    "    for batch in test_loader:\n",
    "        input_ids = batch['input_ids'].to(device)\n",
    "        attention_mask = batch['attention_mask'].to(device)\n",
    "        labels = batch['labels'].to(device)\n",
    "\n",
    "        outputs = model(input_ids, attention_mask=attention_mask)\n",
    "        logits = outputs.logits\n",
    "        preds = torch.argmax(logits, dim=1).cpu().numpy()\n",
    "\n",
    "        predictions.extend(preds)\n",
    "        true_labels.extend(labels.cpu().numpy())\n",
    "\n",
    "# Calculate accuracy\n",
    "accuracy = accuracy_score(true_labels, predictions)\n",
    "print(f\"Test Accuracy: {accuracy * 100:.2f}%\")\n"
   ]
  },
  {
   "cell_type": "code",
   "execution_count": null,
   "metadata": {},
   "outputs": [],
   "source": [
    "def predict_sentiment(text):\n",
    "    model.eval()\n",
    "    \n",
    "    # Tokenize the input text\n",
    "    tokenized = tokenizer(text, padding='max_length', truncation=True, max_length=128, return_tensors=\"pt\")\n",
    "    input_ids = tokenized['input_ids'].squeeze().to(device)\n",
    "    attention_mask = tokenized['attention_mask'].squeeze().to(device)\n",
    "\n",
    "    # Make prediction\n",
    "    with torch.no_grad():\n",
    "        outputs = model(input_ids.unsqueeze(0), attention_mask=attention_mask.unsqueeze(0))\n",
    "        logits = outputs.logits\n",
    "        prediction = torch.argmax(logits, dim=1).cpu().numpy()[0]\n",
    "\n",
    "    # Convert prediction to sentiment\n",
    "    sentiment = \"Positive\" if prediction == 1 else \"Negative\"\n",
    "    return sentiment\n",
    "\n",
    "# Example usage\n",
    "phrase = \"This product is fantastic!\"\n",
    "print(f\"Sentiment for '{phrase}': {predict_sentiment(phrase)}\")\n"
   ]
  }
 ],
 "metadata": {
  "kernelspec": {
   "display_name": "Python 3",
   "language": "python",
   "name": "python3"
  },
  "language_info": {
   "codemirror_mode": {
    "name": "ipython",
    "version": 3
   },
   "file_extension": ".py",
   "mimetype": "text/x-python",
   "name": "python",
   "nbconvert_exporter": "python",
   "pygments_lexer": "ipython3",
   "version": "3.11.6"
  }
 },
 "nbformat": 4,
 "nbformat_minor": 2
}
