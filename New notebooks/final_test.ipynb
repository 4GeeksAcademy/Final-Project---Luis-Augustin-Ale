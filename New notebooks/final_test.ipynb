{
 "cells": [
  {
   "cell_type": "markdown",
   "metadata": {},
   "source": [
    "## Test model from hugging faces\n"
   ]
  },
  {
   "cell_type": "code",
   "execution_count": 37,
   "metadata": {},
   "outputs": [],
   "source": [
    "from transformers import AutoModelForSequenceClassification, AutoTokenizer\n",
    "import torch"
   ]
  },
  {
   "cell_type": "code",
   "execution_count": 38,
   "metadata": {},
   "outputs": [
    {
     "name": "stderr",
     "output_type": "stream",
     "text": [
      "Some weights of RobertaForSequenceClassification were not initialized from the model checkpoint at AleOfDurin/Sentiment_fine_tuned and are newly initialized: ['classifier.dense.bias', 'classifier.dense.weight', 'classifier.out_proj.bias', 'classifier.out_proj.weight']\n",
      "You should probably TRAIN this model on a down-stream task to be able to use it for predictions and inference.\n"
     ]
    }
   ],
   "source": [
    "# Load the pre-trained model and tokenizer from Hugging Face\n",
    "model_name = \"AleOfDurin/Sentiment_fine_tuned\"\n",
    "\n",
    "# Load the model and tokenizer from the Hugging Face Hub\n",
    "model = AutoModelForSequenceClassification.from_pretrained(model_name)  # Ensure it's SequenceClassification model\n",
    "tokenizer = AutoTokenizer.from_pretrained(model_name)"
   ]
  },
  {
   "cell_type": "code",
   "execution_count": 41,
   "metadata": {},
   "outputs": [],
   "source": [
    "\n",
    "#function to predict sentiment\n",
    "def predict_sentiment(phrase):\n",
    "    # Tokenize the input phrase and prepare it for the model\n",
    "    inputs = tokenizer(phrase, padding=True, truncation=True, max_length=128, return_tensors=\"pt\")\n",
    "\n",
    "    # Put the model in evaluation mode\n",
    "    model.eval()\n",
    "\n",
    "    # Disable gradient calculations for inference\n",
    "    with torch.no_grad():\n",
    "        # Forward pass to get model outputs\n",
    "        outputs = model(**inputs)\n",
    "        logits = outputs.logits  # No need for CLS extraction here, AutoModelForSequenceClassification outputs logits directly\n",
    "        \n",
    "        # Compute the probabilities for each class (0 for negative, 1 for positive)\n",
    "        probabilities = torch.softmax(logits, dim=-1)\n",
    "    \n",
    "    # Log the logits and probabilities\n",
    "    print(f\"Logits: {logits}\")\n",
    "    print(f\"Probabilities: {probabilities}\")\n",
    "\n",
    "    # Extract the predicted class (0 for negative, 1 for positive)\n",
    "    predicted_class = torch.argmax(probabilities).item()\n",
    "\n",
    "    # Map the class to a label\n",
    "    return \"Positive\" if predicted_class == 1 else \"Negative\"\n",
    "\n",
    "\n"
   ]
  },
  {
   "cell_type": "code",
   "execution_count": 44,
   "metadata": {},
   "outputs": [
    {
     "name": "stdout",
     "output_type": "stream",
     "text": [
      "Logits shape: torch.Size([1, 2])\n",
      "Logits: tensor([-0.0210, -0.2409])\n",
      "Probabilities: tensor([0.5547, 0.4453])\n",
      "Sentiment: Negative\n"
     ]
    }
   ],
   "source": [
    "# Example test with a phrase\n",
    "input_phrase = \"your song battlefield is addicting i really cant stop listening to it thank you for a great song,\"  # Input phrase here\n",
    "result = predict_sentiment(input_phrase)\n",
    "print(f\"Sentiment: {result}\")"
   ]
  },
  {
   "cell_type": "code",
   "execution_count": 45,
   "metadata": {},
   "outputs": [
    {
     "name": "stdout",
     "output_type": "stream",
     "text": [
      "Logits shape: torch.Size([1, 2])\n",
      "Logits: tensor([-0.0210, -0.2409])\n",
      "Probabilities: tensor([0.5547, 0.4453])\n",
      "Sentiment: Negative\n"
     ]
    }
   ],
   "source": [
    "# Define the function to predict sentiment for an input phrase\n",
    "def predict_sentiment(phrase):\n",
    "    # Tokenize the input phrase and prepare it for the model\n",
    "    inputs = tokenizer(phrase, padding=True, truncation=True, max_length=128, return_tensors=\"pt\")\n",
    "\n",
    "    # Move inputs to the same device as the model (e.g., GPU or CPU)\n",
    "    inputs = {key: value.to(device) for key, value in inputs.items()}\n",
    "\n",
    "    # Put the model in evaluation mode\n",
    "    model.eval()\n",
    "\n",
    "    # Disable gradient calculations for inference\n",
    "    with torch.no_grad():\n",
    "        # Forward pass to get model outputs\n",
    "        outputs = model(**inputs)\n",
    "        logits = outputs.logits\n",
    "        \n",
    "        # Check the shape of the logits to adapt the code\n",
    "        print(f\"Logits shape: {logits.shape}\")\n",
    "\n",
    "        if logits.ndim == 3:\n",
    "            # If logits are 3D, we need to extract the CLS token logits [batch_size, sequence_length, num_labels]\n",
    "            cls_logits = logits[0, 0, :]  # Extract the [CLS] token logits\n",
    "        else:\n",
    "            # If logits are 2D, we directly have [batch_size, num_labels]\n",
    "            cls_logits = logits[0]\n",
    "\n",
    "        # Compute the probabilities for each class (0 for negative, 1 for positive)\n",
    "        probabilities = torch.softmax(cls_logits, dim=-1)\n",
    "\n",
    "    # Log the logits and probabilities\n",
    "    print(f\"Logits: {cls_logits}\")\n",
    "    print(f\"Probabilities: {probabilities}\")\n",
    "\n",
    "    # Extract the predicted class (0 for negative, 1 for positive)\n",
    "    predicted_class = torch.argmax(probabilities).item()\n",
    "\n",
    "    # Map the class to a label\n",
    "    return \"Positive\" if predicted_class == 1 else \"Negative\"\n",
    "\n",
    "\n",
    "# Example test with a phrase\n",
    "input_phrase = \"your song battlefield is addicting i really cant stop listening to it thank you for a great song,\"\n",
    "result = predict_sentiment(input_phrase)\n",
    "print(f\"Sentiment: {result}\")\n"
   ]
  }
 ],
 "metadata": {
  "kernelspec": {
   "display_name": "Python 3",
   "language": "python",
   "name": "python3"
  },
  "language_info": {
   "codemirror_mode": {
    "name": "ipython",
    "version": 3
   },
   "file_extension": ".py",
   "mimetype": "text/x-python",
   "name": "python",
   "nbconvert_exporter": "python",
   "pygments_lexer": "ipython3",
   "version": "3.11.6"
  }
 },
 "nbformat": 4,
 "nbformat_minor": 2
}
